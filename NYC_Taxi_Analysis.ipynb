{
 "cells": [
  {
   "cell_type": "code",
   "execution_count": 2,
   "metadata": {
    "scrolled": true
   },
   "outputs": [
    {
     "name": "stdout",
     "output_type": "stream",
     "text": [
      "Requirement already satisfied: pyspark in /system/conda/miniconda3/envs/cloudspace/lib/python3.10/site-packages (3.5.3)\n",
      "Requirement already satisfied: py4j==0.10.9.7 in /system/conda/miniconda3/envs/cloudspace/lib/python3.10/site-packages (from pyspark) (0.10.9.7)\n"
     ]
    }
   ],
   "source": [
    "!pip install pyspark"
   ]
  },
  {
   "cell_type": "code",
   "execution_count": 3,
   "metadata": {},
   "outputs": [
    {
     "name": "stdout",
     "output_type": "stream",
     "text": [
      "Hit:1 https://download.docker.com/linux/ubuntu focal InRelease\n",
      "Hit:2 https://cli.github.com/packages stable InRelease                         \u001b[0m\n",
      "Hit:3 http://security.ubuntu.com/ubuntu focal-security InRelease               \n",
      "Hit:4 http://archive.ubuntu.com/ubuntu focal InRelease\n",
      "Hit:5 http://archive.ubuntu.com/ubuntu focal-updates InRelease\n",
      "Hit:6 http://archive.ubuntu.com/ubuntu focal-backports InRelease\n",
      "Reading package lists... Done3m\u001b[33m\u001b[33m\u001b[33m\n",
      "Building dependency tree       \n",
      "Reading state information... Done\n",
      "3 packages can be upgraded. Run 'apt list --upgradable' to see them.\n"
     ]
    }
   ],
   "source": [
    "!sudo apt update"
   ]
  },
  {
   "cell_type": "code",
   "execution_count": 4,
   "metadata": {
    "scrolled": true
   },
   "outputs": [
    {
     "name": "stdout",
     "output_type": "stream",
     "text": [
      "Reading package lists... Done\n",
      "Building dependency tree       \n",
      "Reading state information... Done\n",
      "openjdk-11-jdk is already the newest version (11.0.25+9-1ubuntu1~20.04).\n",
      "0 upgraded, 0 newly installed, 0 to remove and 3 not upgraded.\n"
     ]
    }
   ],
   "source": [
    "!sudo apt install -y openjdk-11-jdk"
   ]
  },
  {
   "cell_type": "code",
   "execution_count": 5,
   "metadata": {},
   "outputs": [
    {
     "name": "stdout",
     "output_type": "stream",
     "text": [
      "openjdk version \"11.0.25\" 2024-10-15\n",
      "OpenJDK Runtime Environment (build 11.0.25+9-post-Ubuntu-1ubuntu120.04)\n",
      "OpenJDK 64-Bit Server VM (build 11.0.25+9-post-Ubuntu-1ubuntu120.04, mixed mode, sharing)\n"
     ]
    }
   ],
   "source": [
    "!java -version\n"
   ]
  },
  {
   "cell_type": "markdown",
   "metadata": {
    "id": "HzPpSWOv-hHh"
   },
   "source": [
    "### Import Libraries"
   ]
  },
  {
   "cell_type": "code",
   "execution_count": 8,
   "metadata": {
    "id": "vEuxa3Av-edu"
   },
   "outputs": [],
   "source": [
    "from pyspark.sql import SparkSession\n",
    "from pyspark.sql.functions import (\n",
    "    count, when, col, mean, sum, length, to_timestamp,\n",
    "    hour, dayofweek, month, year, unix_timestamp, rand, isnan, isnull\n",
    ")\n",
    "from pyspark.sql.types import DoubleType\n",
    "from pyspark.ml.feature import VectorAssembler, StandardScaler\n",
    "from pyspark.ml.regression import RandomForestRegressor, LinearRegression\n",
    "from pyspark.ml.evaluation import RegressionEvaluator\n",
    "import matplotlib.pyplot as plt"
   ]
  },
  {
   "cell_type": "code",
   "execution_count": 9,
   "metadata": {
    "id": "X9pXJjDa-rC3",
    "scrolled": true
   },
   "outputs": [],
   "source": [
    "spark = SparkSession.builder \\\n",
    "    .appName(\"NYC_Yellow_Cab_Outlier_Detection\") \\\n",
    "    .config(\"spark.executor.memory\", \"10g\") \\\n",
    "    .config(\"spark.driver.memory\", \"10g\") \\\n",
    "    .config(\"spark.sql.adaptive.enabled\", \"true\") \\\n",
    "    .getOrCreate()\n",
    "spark.sparkContext.setLogLevel(\"ERROR\")"
   ]
  },
  {
   "cell_type": "code",
   "execution_count": 10,
   "metadata": {
    "id": "fX4r3iro-rL_"
   },
   "outputs": [],
   "source": [
    "file_paths = [\n",
    "    \"yellow_tripdata_2024-06.parquet\",\n",
    "    \"yellow_tripdata_2024-07.parquet\",\n",
    "    \"yellow_tripdata_2024-08.parquet\",\n",
    "    \"yellow_tripdata_2024-09.parquet\"\n",
    "]"
   ]
  },
  {
   "cell_type": "code",
   "execution_count": 11,
   "metadata": {
    "colab": {
     "base_uri": "https://localhost:8080/"
    },
    "id": "kiVELu7AYqTz",
    "outputId": "c41b6718-eaea-486a-ee71-055ee6a8b840"
   },
   "outputs": [],
   "source": [
    "df = spark.read.parquet(file_paths[0])\n",
    "for path in file_paths[1:]:\n",
    "    new_df = spark.read.parquet(path)\n",
    "    df = df.union(new_df)"
   ]
  },
  {
   "cell_type": "code",
   "execution_count": 12,
   "metadata": {},
   "outputs": [
    {
     "data": {
      "text/plain": [
       "DataFrame[VendorID: int, tpep_pickup_datetime: timestamp_ntz, tpep_dropoff_datetime: timestamp_ntz, passenger_count: bigint, trip_distance: double, RatecodeID: bigint, store_and_fwd_flag: string, PULocationID: int, DOLocationID: int, payment_type: bigint, fare_amount: double, extra: double, mta_tax: double, tip_amount: double, tolls_amount: double, improvement_surcharge: double, total_amount: double, congestion_surcharge: double, Airport_fee: double]"
      ]
     },
     "execution_count": 12,
     "metadata": {},
     "output_type": "execute_result"
    }
   ],
   "source": [
    "df.cache()"
   ]
  },
  {
   "cell_type": "markdown",
   "metadata": {
    "id": "J427GGKM_B3w"
   },
   "source": [
    "### Exploratory Data Analysis"
   ]
  },
  {
   "cell_type": "code",
   "execution_count": 23,
   "metadata": {
    "colab": {
     "base_uri": "https://localhost:8080/"
    },
    "id": "gpQdBiyuF84D",
    "outputId": "38c8e5d3-6f4c-4f52-d793-bfa4601e531b"
   },
   "outputs": [
    {
     "name": "stdout",
     "output_type": "stream",
     "text": [
      "+--------+--------------------+---------------------+---------------+-------------+----------+------------------+------------+------------+------------+-----------+-----+-------+----------+------------+---------------------+------------+--------------------+-----------+\n",
      "|VendorID|tpep_pickup_datetime|tpep_dropoff_datetime|passenger_count|trip_distance|RatecodeID|store_and_fwd_flag|PULocationID|DOLocationID|payment_type|fare_amount|extra|mta_tax|tip_amount|tolls_amount|improvement_surcharge|total_amount|congestion_surcharge|Airport_fee|\n",
      "+--------+--------------------+---------------------+---------------+-------------+----------+------------------+------------+------------+------------+-----------+-----+-------+----------+------------+---------------------+------------+--------------------+-----------+\n",
      "|       1| 2024-06-01 00:03:46|  2024-06-01 00:31:23|              1|         12.5|         1|                 N|         138|         195|           1|       48.5| 7.75|    0.5|     11.55|         0.0|                  1.0|        69.3|                 0.0|       1.75|\n",
      "|       2| 2024-06-01 00:55:22|  2024-06-01 01:08:24|              1|         4.34|         1|                 N|         138|           7|           1|       20.5|  6.0|    0.5|       8.4|         0.0|                  1.0|       38.15|                 0.0|       1.75|\n",
      "|       1| 2024-06-01 00:23:53|  2024-06-01 00:32:35|              1|          1.3|         1|                 N|         166|          41|           1|       10.0|  1.0|    0.5|       3.1|         0.0|                  1.0|        15.6|                 0.0|        0.0|\n",
      "|       1| 2024-06-01 00:32:24|  2024-06-01 00:40:06|              1|          1.2|         1|                 N|         148|         114|           1|        8.6|  3.5|    0.5|       0.2|         0.0|                  1.0|        13.8|                 2.5|        0.0|\n",
      "|       1| 2024-06-01 00:51:38|  2024-06-01 00:58:17|              1|          1.0|         1|                 N|         148|         249|           1|        7.2|  3.5|    0.5|       2.0|         0.0|                  1.0|        14.2|                 2.5|        0.0|\n",
      "|       2| 2024-06-01 00:26:13|  2024-06-01 00:37:21|              1|          1.5|         1|                 N|          48|         229|           1|       11.4|  1.0|    0.5|       2.0|         0.0|                  1.0|        18.4|                 2.5|        0.0|\n",
      "|       2| 2024-06-01 00:01:04|  2024-06-01 00:57:48|              1|        18.41|         2|                 N|         132|          48|           1|       70.0|  0.0|    0.5|      0.15|        6.94|                  1.0|       82.84|                 2.5|       1.75|\n",
      "|       1| 2024-06-01 00:43:55|  2024-06-01 00:49:03|              4|          1.4|         1|                 N|         140|         236|           1|        7.9|  3.5|    0.5|       2.6|         0.0|                  1.0|        15.5|                 2.5|        0.0|\n",
      "|       2| 2024-05-31 23:38:07|  2024-05-31 23:51:42|              1|         2.31|         1|                 N|         230|         239|           1|       14.9|  1.0|    0.5|      3.98|         0.0|                  1.0|       23.88|                 2.5|        0.0|\n",
      "|       2| 2024-06-01 00:00:09|  2024-06-01 00:05:11|              1|         0.74|         1|                 N|         142|         239|           1|        6.5|  1.0|    0.5|       2.3|         0.0|                  1.0|        13.8|                 2.5|        0.0|\n",
      "|       2| 2024-06-01 00:16:07|  2024-06-01 00:36:14|              1|         1.78|         1|                 N|          48|         170|           1|       17.7|  1.0|    0.5|       1.0|         0.0|                  1.0|        23.7|                 2.5|        0.0|\n",
      "|       2| 2024-06-01 00:07:59|  2024-06-01 00:19:43|              1|         2.94|         1|                 N|         234|         142|           1|       15.6|  1.0|    0.5|      5.15|         0.0|                  1.0|       25.75|                 2.5|        0.0|\n",
      "|       2| 2024-06-01 00:34:56|  2024-06-01 00:43:47|              1|         1.82|         1|                 N|         186|          43|           1|       11.4|  1.0|    0.5|       1.5|         0.0|                  1.0|        17.9|                 2.5|        0.0|\n",
      "|       2| 2024-06-01 00:19:02|  2024-06-01 00:27:30|              1|         1.26|         1|                 N|         158|         125|           1|        9.3|  1.0|    0.5|       0.0|         0.0|                  1.0|        14.3|                 2.5|        0.0|\n",
      "|       2| 2024-06-01 00:34:08|  2024-06-01 00:41:19|              1|         1.04|         1|                 N|         249|          68|           1|        8.6|  1.0|    0.5|      2.72|         0.0|                  1.0|       16.32|                 2.5|        0.0|\n",
      "|       1| 2024-06-01 00:11:50|  2024-06-01 00:34:56|              1|          3.7|         1|                 N|          50|           4|           1|       22.6|  3.5|    0.5|       4.0|         0.0|                  1.0|        31.6|                 2.5|        0.0|\n",
      "|       1| 2024-06-01 00:49:34|  2024-06-01 00:56:29|              2|          0.9|         1|                 N|         137|         234|           1|        7.9|  3.5|    0.5|      2.55|         0.0|                  1.0|       15.45|                 2.5|        0.0|\n",
      "|       2| 2024-06-01 00:06:49|  2024-06-01 00:20:51|              1|          5.4|         1|                 N|          50|         116|           2|       24.0|  1.0|    0.5|       0.0|         0.0|                  1.0|        29.0|                 2.5|        0.0|\n",
      "|       1| 2024-06-01 00:28:48|  2024-06-01 00:39:02|              1|          1.5|         1|                 N|         162|         164|           2|       11.4|  3.5|    0.5|       0.0|         0.0|                  1.0|        16.4|                 2.5|        0.0|\n",
      "|       2| 2024-06-01 00:14:52|  2024-06-01 00:43:25|              1|          5.3|         1|                 N|         231|         143|           1|       30.3|  1.0|    0.5|      7.06|         0.0|                  1.0|       42.36|                 2.5|        0.0|\n",
      "+--------+--------------------+---------------------+---------------+-------------+----------+------------------+------------+------------+------------+-----------+-----+-------+----------+------------+---------------------+------------+--------------------+-----------+\n",
      "only showing top 20 rows\n",
      "\n"
     ]
    }
   ],
   "source": [
    "df.show()"
   ]
  },
  {
   "cell_type": "code",
   "execution_count": 24,
   "metadata": {
    "colab": {
     "base_uri": "https://localhost:8080/"
    },
    "id": "lvxBfsdi_FHT",
    "outputId": "22189734-d9a2-4a8c-e373-f0df72063d3c"
   },
   "outputs": [
    {
     "name": "stdout",
     "output_type": "stream",
     "text": [
      "root\n",
      " |-- VendorID: integer (nullable = true)\n",
      " |-- tpep_pickup_datetime: timestamp_ntz (nullable = true)\n",
      " |-- tpep_dropoff_datetime: timestamp_ntz (nullable = true)\n",
      " |-- passenger_count: long (nullable = true)\n",
      " |-- trip_distance: double (nullable = true)\n",
      " |-- RatecodeID: long (nullable = true)\n",
      " |-- store_and_fwd_flag: string (nullable = true)\n",
      " |-- PULocationID: integer (nullable = true)\n",
      " |-- DOLocationID: integer (nullable = true)\n",
      " |-- payment_type: long (nullable = true)\n",
      " |-- fare_amount: double (nullable = true)\n",
      " |-- extra: double (nullable = true)\n",
      " |-- mta_tax: double (nullable = true)\n",
      " |-- tip_amount: double (nullable = true)\n",
      " |-- tolls_amount: double (nullable = true)\n",
      " |-- improvement_surcharge: double (nullable = true)\n",
      " |-- total_amount: double (nullable = true)\n",
      " |-- congestion_surcharge: double (nullable = true)\n",
      " |-- Airport_fee: double (nullable = true)\n",
      "\n"
     ]
    }
   ],
   "source": [
    "df.printSchema()"
   ]
  },
  {
   "cell_type": "code",
   "execution_count": 25,
   "metadata": {
    "id": "HlvUO1dw_Ij1"
   },
   "outputs": [
    {
     "name": "stderr",
     "output_type": "stream",
     "text": [
      "[Stage 11:====================================================>   (15 + 1) / 16]\r"
     ]
    },
    {
     "name": "stdout",
     "output_type": "stream",
     "text": [
      "+-------+------------------+------------------+-----------------+------------------+------------------+------------------+-----------------+------------------+------------------+------------------+-------------------+------------------+------------------+---------------------+------------------+--------------------+-------------------+\n",
      "|summary|          VendorID|   passenger_count|    trip_distance|        RatecodeID|store_and_fwd_flag|      PULocationID|     DOLocationID|      payment_type|       fare_amount|             extra|            mta_tax|        tip_amount|      tolls_amount|improvement_surcharge|      total_amount|congestion_surcharge|        Airport_fee|\n",
      "+-------+------------------+------------------+-----------------+------------------+------------------+------------------+-----------------+------------------+------------------+------------------+-------------------+------------------+------------------+---------------------+------------------+--------------------+-------------------+\n",
      "|  count|          13228309|          11796141|         13228309|          11796141|          11796141|          13228309|         13228309|          13228309|          13228309|          13228309|           13228309|          13228309|          13228309|             13228309|          13228309|            11796141|           11796141|\n",
      "|   mean|1.7683998007606263|1.3374829954982737|5.276615270326428|2.4335412742184075|              NULL|162.92725600830764|162.2939622895111|1.1062829723738687|19.675465804435973|1.3736998478036764|0.47840664517286374|3.2731868147316203|0.5856590460649876|   0.9576220059570743|28.210830180208458|  2.2086505044319154|0.16091158540746503|\n",
      "| stddev|0.4220680959210877|0.8146529849244125|420.5476018639748|11.364073844658881|              NULL| 64.37520689876946|69.75272845058149|0.6712263803739029|20.441654860363904|1.8256723466296003| 0.1342534759624406| 4.171035414927638| 2.287622017279339|   0.2680872393801268|25.161705133338547|   0.905666467994973| 0.5247439371165766|\n",
      "|    min|                 1|                 0|              0.0|                 1|                 N|                 1|                1|                 0|           -2261.2|              -7.5|               -0.5|            -99.01|           -117.26|                 -1.0|          -2265.45|                -2.5|              -1.75|\n",
      "|    max|                 6|                 9|        330397.59|                99|                 Y|               265|              265|                 5|           12898.4|             16.19|               25.0|            747.47|            476.35|                  1.0|           12903.4|                2.52|               1.75|\n",
      "+-------+------------------+------------------+-----------------+------------------+------------------+------------------+-----------------+------------------+------------------+------------------+-------------------+------------------+------------------+---------------------+------------------+--------------------+-------------------+\n",
      "\n"
     ]
    },
    {
     "name": "stderr",
     "output_type": "stream",
     "text": [
      "                                                                                \r"
     ]
    }
   ],
   "source": [
    "df.describe().show()"
   ]
  },
  {
   "cell_type": "code",
   "execution_count": null,
   "metadata": {
    "colab": {
     "base_uri": "https://localhost:8080/"
    },
    "id": "2vI8VTOc_Lz_",
    "outputId": "a91666e6-39da-4813-e5db-d5405864848b"
   },
   "outputs": [
    {
     "name": "stdout",
     "output_type": "stream",
     "text": [
      "+-------+-------------------+------------------+-----------------+------------------+------------------+------------------+------------------+------------------+------------------+------------------+-------------------+------------------+------------------+---------------------+------------------+--------------------+-------------------+\n",
      "|summary|           VendorID|   passenger_count|    trip_distance|        RatecodeID|store_and_fwd_flag|      PULocationID|      DOLocationID|      payment_type|       fare_amount|             extra|            mta_tax|        tip_amount|      tolls_amount|improvement_surcharge|      total_amount|congestion_surcharge|        Airport_fee|\n",
      "+-------+-------------------+------------------+-----------------+------------------+------------------+------------------+------------------+------------------+------------------+------------------+-------------------+------------------+------------------+---------------------+------------------+--------------------+-------------------+\n",
      "|  count|            2979183|           2720516|          2979183|           2720516|           2720516|           2979183|           2979183|           2979183|           2979183|           2979183|            2979183|           2979183|           2979183|              2979183|           2979183|             2720516|            2720516|\n",
      "|   mean|  1.771668272811707|1.3595170916105621|4.944864085220252|2.6936650988268402|              NULL|161.88169306820024|161.16033791814735|1.1509081516643993| 19.72050661540708|1.3886177452006134| 0.4756858675683904|3.2642858629369034|0.6149863435696195|   0.9512131010414626| 28.27118877892866|   2.174221085264707|0.17190553189174407|\n",
      "| stddev|0.41975755941974513|0.8362148354340594|378.5274305216584|12.369368106607398|              NULL| 63.89865624166003| 69.76528822443595|0.6773365095026165|21.023575624288902| 1.844760555181405|0.14175852190342986| 4.214036166365469|2.3518691046588347|  0.28597004841915163|25.800874642703484|  0.9487425828992037| 0.5432236648726398|\n",
      "|    min|                  1|                 0|              0.0|                 1|                 N|                 1|                 1|                 0|           -1174.1|              -7.5|               -0.5|             -90.0|            -116.7|                 -1.0|           -1000.0|                -2.5|              -1.75|\n",
      "|    25%|                  2|                 1|             1.03|                 1|              NULL|               132|               112|                 1|               9.3|               0.0|                0.5|               0.0|               0.0|                  1.0|              15.6|                 2.5|                0.0|\n",
      "|    50%|                  2|                 1|              1.8|                 1|              NULL|               161|               162|                 1|              13.5|               1.0|                0.5|              2.52|               0.0|                  1.0|             20.93|                 2.5|                0.0|\n",
      "|    75%|                  2|                 1|              3.6|                 1|              NULL|               231|               233|                 1|              22.6|               2.5|                0.5|               4.2|               0.0|                  1.0|              30.8|                 2.5|                0.0|\n",
      "|    max|                  2|                 9|        327025.19|                99|                 Y|               265|               265|                 4|            1386.2|             14.25|               10.5|            523.95|             131.0|                  1.0|           1404.83|                 2.5|               1.75|\n",
      "+-------+-------------------+------------------+-----------------+------------------+------------------+------------------+------------------+------------------+------------------+------------------+-------------------+------------------+------------------+---------------------+------------------+--------------------+-------------------+\n",
      "\n"
     ]
    }
   ],
   "source": [
    "df.summary().show()"
   ]
  },
  {
   "cell_type": "code",
   "execution_count": 26,
   "metadata": {
    "colab": {
     "base_uri": "https://localhost:8080/"
    },
    "id": "0yaZPlbm_Pq-",
    "outputId": "e5bfe107-7c33-47bf-d52a-5ff8246aed82"
   },
   "outputs": [
    {
     "name": "stderr",
     "output_type": "stream",
     "text": [
      "[Stage 14:=============================================>          (13 + 3) / 16]\r"
     ]
    },
    {
     "name": "stdout",
     "output_type": "stream",
     "text": [
      "+--------+--------------------+---------------------+---------------+-------------+----------+------------------+------------+------------+------------+-----------+-----+-------+----------+------------+---------------------+------------+--------------------+-----------+\n",
      "|VendorID|tpep_pickup_datetime|tpep_dropoff_datetime|passenger_count|trip_distance|RatecodeID|store_and_fwd_flag|PULocationID|DOLocationID|payment_type|fare_amount|extra|mta_tax|tip_amount|tolls_amount|improvement_surcharge|total_amount|congestion_surcharge|Airport_fee|\n",
      "+--------+--------------------+---------------------+---------------+-------------+----------+------------------+------------+------------+------------+-----------+-----+-------+----------+------------+---------------------+------------+--------------------+-----------+\n",
      "|       0|                   0|                    0|        1432168|            0|   1432168|           1432168|           0|           0|           0|          0|    0|      0|         0|           0|                    0|           0|             1432168|    1432168|\n",
      "+--------+--------------------+---------------------+---------------+-------------+----------+------------------+------------+------------+------------+-----------+-----+-------+----------+------------+---------------------+------------+--------------------+-----------+\n",
      "\n"
     ]
    },
    {
     "name": "stderr",
     "output_type": "stream",
     "text": [
      "                                                                                \r"
     ]
    }
   ],
   "source": [
    "#Columns with NULL values\n",
    "\n",
    "#Drop columns like RatecodeID, store_and_fwd_flag and impute the other NULL columns\n",
    "df.select([count(when(col(c).isNull(), c)).alias(c) for c in df.columns]).show()"
   ]
  },
  {
   "cell_type": "code",
   "execution_count": 27,
   "metadata": {
    "colab": {
     "base_uri": "https://localhost:8080/"
    },
    "id": "JUuiPaujBd9T",
    "outputId": "89e724ee-17d9-4ec9-8b35-5a2a041b3c28"
   },
   "outputs": [
    {
     "name": "stderr",
     "output_type": "stream",
     "text": [
      "[Stage 17:====================================================>   (15 + 1) / 16]\r"
     ]
    },
    {
     "name": "stdout",
     "output_type": "stream",
     "text": [
      "+---------------+-------+\n",
      "|passenger_count|  count|\n",
      "+---------------+-------+\n",
      "|              0| 121547|\n",
      "|              7|     19|\n",
      "|              6|  64571|\n",
      "|              5|  94228|\n",
      "|              1|9095870|\n",
      "|              3| 424462|\n",
      "|              8|     47|\n",
      "|              2|1716418|\n",
      "|              4| 278968|\n",
      "|           NULL|1432168|\n",
      "|              9|     11|\n",
      "+---------------+-------+\n",
      "\n"
     ]
    },
    {
     "name": "stderr",
     "output_type": "stream",
     "text": [
      "                                                                                \r"
     ]
    }
   ],
   "source": [
    "df.groupBy(\"passenger_count\").count().show()"
   ]
  },
  {
   "cell_type": "code",
   "execution_count": 28,
   "metadata": {
    "colab": {
     "base_uri": "https://localhost:8080/"
    },
    "id": "MIzEH3axCPfu",
    "outputId": "42d889dc-6b1b-47ce-ba65-da1ed76ca594"
   },
   "outputs": [
    {
     "name": "stderr",
     "output_type": "stream",
     "text": [
      "[Stage 20:=============================================>          (13 + 3) / 16]\r"
     ]
    },
    {
     "name": "stdout",
     "output_type": "stream",
     "text": [
      "+--------------------+--------+\n",
      "|congestion_surcharge|   count|\n",
      "+--------------------+--------+\n",
      "|                 0.0| 1041134|\n",
      "|                 2.5|10588209|\n",
      "|                -2.5|  166791|\n",
      "|                 1.0|       3|\n",
      "|                2.52|       1|\n",
      "|                NULL| 1432168|\n",
      "|                0.75|       3|\n",
      "+--------------------+--------+\n",
      "\n"
     ]
    },
    {
     "name": "stderr",
     "output_type": "stream",
     "text": [
      "                                                                                \r"
     ]
    }
   ],
   "source": [
    "df.groupBy(\"congestion_surcharge\").count().show()"
   ]
  },
  {
   "cell_type": "code",
   "execution_count": 29,
   "metadata": {
    "colab": {
     "base_uri": "https://localhost:8080/"
    },
    "id": "ywgURLTZCSMw",
    "outputId": "eda98d7f-0b5b-4e5e-b90b-7ffed6ac531e"
   },
   "outputs": [
    {
     "name": "stderr",
     "output_type": "stream",
     "text": [
      "[Stage 23:==========================================>             (12 + 4) / 16]\r"
     ]
    },
    {
     "name": "stdout",
     "output_type": "stream",
     "text": [
      "+-----------+--------+\n",
      "|Airport_fee|   count|\n",
      "+-----------+--------+\n",
      "|        0.0|10635784|\n",
      "|       1.25|      14|\n",
      "|      -1.75|   37852|\n",
      "|       1.75| 1122491|\n",
      "|       NULL| 1432168|\n",
      "+-----------+--------+\n",
      "\n"
     ]
    },
    {
     "name": "stderr",
     "output_type": "stream",
     "text": [
      "                                                                                \r"
     ]
    }
   ],
   "source": [
    "df.groupBy(\"Airport_fee\").count().show()\n"
   ]
  },
  {
   "cell_type": "code",
   "execution_count": 30,
   "metadata": {
    "colab": {
     "base_uri": "https://localhost:8080/"
    },
    "id": "4lV80ZGRFJ87",
    "outputId": "f6ab8f98-564a-485a-a347-d0ecb861f970"
   },
   "outputs": [
    {
     "name": "stderr",
     "output_type": "stream",
     "text": [
      "[Stage 31:===================================================>    (11 + 1) / 12]\r"
     ]
    },
    {
     "name": "stdout",
     "output_type": "stream",
     "text": [
      "There are 1 duplicate rows.\n"
     ]
    },
    {
     "name": "stderr",
     "output_type": "stream",
     "text": [
      "                                                                                \r"
     ]
    }
   ],
   "source": [
    "# Check for duplicate rows\n",
    "total_count = df.count()\n",
    "unique_count = df.dropDuplicates().count()\n",
    "\n",
    "if total_count > unique_count:\n",
    "    print(f\"There are {total_count - unique_count} duplicate rows.\")\n",
    "else:\n",
    "    print(\"There are no duplicate rows.\")\n"
   ]
  },
  {
   "cell_type": "code",
   "execution_count": 13,
   "metadata": {
    "colab": {
     "base_uri": "https://localhost:8080/"
    },
    "id": "nKeIUkosMKeb",
    "outputId": "3bafc0e6-bae2-4f40-c2f2-eeb787fa64ff"
   },
   "outputs": [
    {
     "name": "stderr",
     "output_type": "stream",
     "text": [
      "                                                                                \r"
     ]
    },
    {
     "name": "stdout",
     "output_type": "stream",
     "text": [
      "Columns with outliers: ['trip_distance', 'fare_amount', 'extra', 'mta_tax', 'tip_amount', 'tolls_amount', 'improvement_surcharge', 'total_amount', 'congestion_surcharge', 'Airport_fee', 'passenger_count']\n",
      "+-------------+-----------+-----+-------+----------+------------+---------------------+------------+--------------------+-----------+---------------+\n",
      "|trip_distance|fare_amount|extra|mta_tax|tip_amount|tolls_amount|improvement_surcharge|total_amount|congestion_surcharge|Airport_fee|passenger_count|\n",
      "+-------------+-----------+-----+-------+----------+------------+---------------------+------------+--------------------+-----------+---------------+\n",
      "|         12.5|       48.5| 7.75|    0.5|     11.55|         0.0|                  1.0|        69.3|                 0.0|       1.75|              1|\n",
      "|         4.34|       20.5|  6.0|    0.5|       8.4|         0.0|                  1.0|       38.15|                 0.0|       1.75|              1|\n",
      "|          1.3|       10.0|  1.0|    0.5|       3.1|         0.0|                  1.0|        15.6|                 0.0|        0.0|              1|\n",
      "|          1.2|        8.6|  3.5|    0.5|       0.2|         0.0|                  1.0|        13.8|                 2.5|        0.0|              1|\n",
      "|          1.0|        7.2|  3.5|    0.5|       2.0|         0.0|                  1.0|        14.2|                 2.5|        0.0|              1|\n",
      "|          1.5|       11.4|  1.0|    0.5|       2.0|         0.0|                  1.0|        18.4|                 2.5|        0.0|              1|\n",
      "|        18.41|       70.0|  0.0|    0.5|      0.15|        6.94|                  1.0|       82.84|                 2.5|       1.75|              1|\n",
      "|          1.4|        7.9|  3.5|    0.5|       2.6|         0.0|                  1.0|        15.5|                 2.5|        0.0|              4|\n",
      "|         2.31|       14.9|  1.0|    0.5|      3.98|         0.0|                  1.0|       23.88|                 2.5|        0.0|              1|\n",
      "|         0.74|        6.5|  1.0|    0.5|       2.3|         0.0|                  1.0|        13.8|                 2.5|        0.0|              1|\n",
      "|         1.78|       17.7|  1.0|    0.5|       1.0|         0.0|                  1.0|        23.7|                 2.5|        0.0|              1|\n",
      "|         2.94|       15.6|  1.0|    0.5|      5.15|         0.0|                  1.0|       25.75|                 2.5|        0.0|              1|\n",
      "|         1.82|       11.4|  1.0|    0.5|       1.5|         0.0|                  1.0|        17.9|                 2.5|        0.0|              1|\n",
      "|         1.26|        9.3|  1.0|    0.5|       0.0|         0.0|                  1.0|        14.3|                 2.5|        0.0|              1|\n",
      "|         1.04|        8.6|  1.0|    0.5|      2.72|         0.0|                  1.0|       16.32|                 2.5|        0.0|              1|\n",
      "|          3.7|       22.6|  3.5|    0.5|       4.0|         0.0|                  1.0|        31.6|                 2.5|        0.0|              1|\n",
      "|          0.9|        7.9|  3.5|    0.5|      2.55|         0.0|                  1.0|       15.45|                 2.5|        0.0|              2|\n",
      "|          5.4|       24.0|  1.0|    0.5|       0.0|         0.0|                  1.0|        29.0|                 2.5|        0.0|              1|\n",
      "|          1.5|       11.4|  3.5|    0.5|       0.0|         0.0|                  1.0|        16.4|                 2.5|        0.0|              1|\n",
      "|          5.3|       30.3|  1.0|    0.5|      7.06|         0.0|                  1.0|       42.36|                 2.5|        0.0|              1|\n",
      "+-------------+-----------+-----+-------+----------+------------+---------------------+------------+--------------------+-----------+---------------+\n",
      "only showing top 20 rows\n",
      "\n"
     ]
    }
   ],
   "source": [
    "from pyspark.sql.functions import col, when\n",
    "\n",
    "# Define numerical columns\n",
    "numerical_columns = [\"trip_distance\", \"fare_amount\", \"extra\", \"mta_tax\", \"tip_amount\",\n",
    "                     \"tolls_amount\", \"improvement_surcharge\", \"total_amount\",\n",
    "                     \"congestion_surcharge\", \"Airport_fee\", \"passenger_count\"]\n",
    "\n",
    "outlier_columns = []\n",
    "for column in numerical_columns:\n",
    "    quantiles = df.approxQuantile(column, [0.25, 0.75], 0.0)\n",
    "    Q1, Q3 = quantiles[0], quantiles[1]\n",
    "    IQR = Q3 - Q1\n",
    "    lower_bound = Q1 - 1.5 * IQR\n",
    "    upper_bound = Q3 + 1.5 * IQR\n",
    "\n",
    "    # Check if there are any outliers in the current column\n",
    "    outlier_count = df.filter((col(column) < lower_bound) | (col(column) > upper_bound)).count()\n",
    "    if outlier_count > 0:\n",
    "        outlier_columns.append(column)\n",
    "\n",
    "if outlier_columns:\n",
    "    print(f\"Columns with outliers: {outlier_columns}\")\n",
    "    df.select(outlier_columns).show()\n",
    "else:\n",
    "    print(\"No columns with outliers found.\")\n"
   ]
  },
  {
   "cell_type": "markdown",
   "metadata": {
    "id": "BGVieXg1A4lr"
   },
   "source": [
    "### Preprocessing"
   ]
  },
  {
   "cell_type": "code",
   "execution_count": 14,
   "metadata": {
    "id": "jRGLYXnfAXJd"
   },
   "outputs": [],
   "source": [
    "df = df.na.drop(subset=[\"RatecodeID\", \"store_and_fwd_flag\"])"
   ]
  },
  {
   "cell_type": "code",
   "execution_count": 15,
   "metadata": {
    "id": "gwjSXyGFCdtk"
   },
   "outputs": [
    {
     "name": "stderr",
     "output_type": "stream",
     "text": [
      "                                                                                \r"
     ]
    }
   ],
   "source": [
    "## Mean imputation for passenger_count, congestion_surcharge, and Airport_fee column\n",
    "\n",
    "mean_values = df.select(\n",
    "    mean(\"passenger_count\").alias(\"mean_passenger_count\"),\n",
    "    mean(\"congestion_surcharge\").alias(\"mean_congestion_surcharge\"),\n",
    "    mean(\"Airport_fee\").alias(\"mean_airport_fee\")\n",
    ").collect()[0]\n",
    "\n",
    "# Impute null values with the calculated means\n",
    "df = df.na.fill({\n",
    "    \"passenger_count\": mean_values[\"mean_passenger_count\"],\n",
    "    \"congestion_surcharge\": mean_values[\"mean_congestion_surcharge\"],\n",
    "    \"Airport_fee\": mean_values[\"mean_airport_fee\"]\n",
    "})\n"
   ]
  },
  {
   "cell_type": "code",
   "execution_count": 16,
   "metadata": {
    "id": "Rnc-ys6DGh3r"
   },
   "outputs": [
    {
     "name": "stderr",
     "output_type": "stream",
     "text": [
      "                                                                                \r"
     ]
    }
   ],
   "source": [
    "# Outlier Handling\n",
    "# List of columns with outliers\n",
    "outlier_columns = [\"trip_distance\", \"fare_amount\", \"extra\", \"mta_tax\", \"tip_amount\",\n",
    "                   \"tolls_amount\", \"improvement_surcharge\", \"total_amount\",\n",
    "                   \"congestion_surcharge\", \"Airport_fee\", \"passenger_count\"]\n",
    "\n",
    "# Filter conditions for each column based on IQR\n",
    "for column in outlier_columns:\n",
    "    # Calculate the 25th and 75th percentiles\n",
    "    quantiles = df.approxQuantile(column, [0.25, 0.75], 0.0)\n",
    "    Q1, Q3 = quantiles[0], quantiles[1]\n",
    "    IQR = Q3 - Q1\n",
    "    lower_bound = Q1 - 1.5 * IQR\n",
    "    upper_bound = Q3 + 1.5 * IQR\n",
    "\n",
    "    # Apply the filter to remove rows outside the acceptable range for this column\n",
    "    df = df.filter((col(column) >= lower_bound) & (col(column) <= upper_bound))\n"
   ]
  },
  {
   "cell_type": "code",
   "execution_count": 17,
   "metadata": {
    "colab": {
     "base_uri": "https://localhost:8080/"
    },
    "id": "YEOpbXXKP4lA",
    "outputId": "abb5e6af-bf10-47fa-9320-d6b3931db6b2",
    "scrolled": true
   },
   "outputs": [
    {
     "name": "stderr",
     "output_type": "stream",
     "text": [
      "[Stage 86:=================================================>      (14 + 2) / 16]\r"
     ]
    },
    {
     "name": "stdout",
     "output_type": "stream",
     "text": [
      "+-------+-------------------+---------------+------------------+------------------+------------------+------------------+-----------------+------------------+------------------+------------------+-------+------------------+------------+---------------------+------------------+--------------------+-----------+\n",
      "|summary|           VendorID|passenger_count|     trip_distance|        RatecodeID|store_and_fwd_flag|      PULocationID|     DOLocationID|      payment_type|       fare_amount|             extra|mta_tax|        tip_amount|tolls_amount|improvement_surcharge|      total_amount|congestion_surcharge|Airport_fee|\n",
      "+-------+-------------------+---------------+------------------+------------------+------------------+------------------+-----------------+------------------+------------------+------------------+-------+------------------+------------+---------------------+------------------+--------------------+-----------+\n",
      "|  count|            7027595|        7027595|           7027595|           7027595|           7027595|           7027595|          7027595|           7027595|           7027595|           7027595|7027595|           7027595|     7027595|              7027595|           7027595|             7027595|    7027595|\n",
      "|   mean| 1.7601701577851314|            1.0|1.7214847739518397|1.0031840195685722|              NULL|170.26381400749474|168.4930561593262| 1.183381370155793|12.822896034844515|1.3747096552945919|    0.5|  2.59997869968284|         0.0|                  1.0|20.200337216359667|                 2.5|        0.0|\n",
      "| stddev|0.42697952520032406|            0.0|1.1069588938644244|0.4701905837523914|              NULL| 63.84719843543436|66.88481464928529|0.4734988790520219|5.6690547213039295|1.4347175757977055|    0.0|1.7722638098248815|         0.0|                  0.0| 6.685659572957801|                 0.0|        0.0|\n",
      "|    min|                  1|              1|               0.0|                 1|                 N|                 4|                1|                 1|               0.0|              -2.5|    0.5|               0.0|         0.0|                  1.0|               4.0|                 2.5|        0.0|\n",
      "|    max|                  2|              1|              7.05|                99|                 Y|               265|              265|                 4|             31.29|               6.0|    0.5|              8.15|         0.0|                  1.0|             39.27|                 2.5|        0.0|\n",
      "+-------+-------------------+---------------+------------------+------------------+------------------+------------------+-----------------+------------------+------------------+------------------+-------+------------------+------------+---------------------+------------------+--------------------+-----------+\n",
      "\n"
     ]
    },
    {
     "name": "stderr",
     "output_type": "stream",
     "text": [
      "                                                                                \r"
     ]
    }
   ],
   "source": [
    "df.describe().show()"
   ]
  },
  {
   "cell_type": "markdown",
   "metadata": {
    "id": "t1EInrk2PveA"
   },
   "source": [
    "### Feature Engineering"
   ]
  },
  {
   "cell_type": "code",
   "execution_count": 18,
   "metadata": {
    "id": "OCfbqA-LOO_F"
   },
   "outputs": [],
   "source": [
    "# 1. Extract meaningful date and time features from 'tpep_pickup_datetime'\n",
    "\n",
    "# Extract hour, day of week, month, and year\n",
    "df = df.withColumn(\"pickup_hour\", hour(\"tpep_pickup_datetime\")) \\\n",
    "       .withColumn(\"pickup_dayofweek\", dayofweek(\"tpep_pickup_datetime\")) \\\n",
    "       .withColumn(\"pickup_month\", month(\"tpep_pickup_datetime\")) \\\n",
    "       .withColumn(\"pickup_year\", year(\"tpep_pickup_datetime\"))\n",
    "\n",
    "# Calculate trip duration (in minutes) using 'tpep_pickup_datetime' and 'tpep_dropoff_datetime'\n",
    "df = df.withColumn(\"trip_duration\",\n",
    "                   (unix_timestamp(\"tpep_dropoff_datetime\") - unix_timestamp(\"tpep_pickup_datetime\")) / 60)\n",
    "\n",
    "# 2. Interaction Features\n",
    "# Create features that represent interactions between columns\n",
    "\n",
    "df = df.withColumn(\"distance_per_passenger\", col(\"trip_distance\") / col(\"passenger_count\"))\n",
    "df = df.withColumn(\"fare_per_distance\", col(\"fare_amount\") / col(\"trip_distance\"))\n",
    "df = df.withColumn(\"total_per_passenger\", col(\"total_amount\") / col(\"passenger_count\"))\n",
    "\n",
    "# 3. Aggregated Features\n",
    "# Aggregations based on locations might be useful if there's a logical grouping for PULocationID\n",
    "\n",
    "location_aggregates = df.groupBy(\"PULocationID\").agg(\n",
    "    mean(\"fare_amount\").alias(\"avg_fare_by_location\"),\n",
    "    mean(\"trip_duration\").alias(\"avg_duration_by_location\")\n",
    ")\n",
    "df = df.join(location_aggregates, on=\"PULocationID\", how=\"left\")\n"
   ]
  },
  {
   "cell_type": "code",
   "execution_count": 19,
   "metadata": {
    "colab": {
     "base_uri": "https://localhost:8080/"
    },
    "id": "zIULUkllR5cx",
    "outputId": "369536da-2bca-4507-88c9-65ee57a199b7"
   },
   "outputs": [
    {
     "name": "stderr",
     "output_type": "stream",
     "text": [
      "[Stage 90:====================================================>   (15 + 1) / 16]\r"
     ]
    },
    {
     "name": "stdout",
     "output_type": "stream",
     "text": [
      "+------------+--------+--------------------+---------------------+---------------+-------------+----------+------------------+------------+------------+-----------+-----+-------+----------+------------+---------------------+------------+--------------------+-----------+-----------+----------------+------------+-----------+------------------+----------------------+------------------+-------------------+--------------------+------------------------+\n",
      "|PULocationID|VendorID|tpep_pickup_datetime|tpep_dropoff_datetime|passenger_count|trip_distance|RatecodeID|store_and_fwd_flag|DOLocationID|payment_type|fare_amount|extra|mta_tax|tip_amount|tolls_amount|improvement_surcharge|total_amount|congestion_surcharge|Airport_fee|pickup_hour|pickup_dayofweek|pickup_month|pickup_year|     trip_duration|distance_per_passenger| fare_per_distance|total_per_passenger|avg_fare_by_location|avg_duration_by_location|\n",
      "+------------+--------+--------------------+---------------------+---------------+-------------+----------+------------------+------------+------------+-----------+-----+-------+----------+------------+---------------------+------------+--------------------+-----------+-----------+----------------+------------+-----------+------------------+----------------------+------------------+-------------------+--------------------+------------------------+\n",
      "|         148|       1| 2024-06-01 00:32:24|  2024-06-01 00:40:06|              1|          1.2|         1|                 N|         114|           1|        8.6|  3.5|    0.5|       0.2|         0.0|                  1.0|        13.8|                 2.5|        0.0|          0|               7|           6|       2024|               7.7|                   1.2| 7.166666666666667|               13.8|  14.276946049590242|      13.866040003151936|\n",
      "|         148|       1| 2024-06-01 00:51:38|  2024-06-01 00:58:17|              1|          1.0|         1|                 N|         249|           1|        7.2|  3.5|    0.5|       2.0|         0.0|                  1.0|        14.2|                 2.5|        0.0|          0|               7|           6|       2024|              6.65|                   1.0|               7.2|               14.2|  14.276946049590242|      13.866040003151936|\n",
      "|         230|       2| 2024-05-31 23:38:07|  2024-05-31 23:51:42|              1|         2.31|         1|                 N|         239|           1|       14.9|  1.0|    0.5|      3.98|         0.0|                  1.0|       23.88|                 2.5|        0.0|         23|               6|           5|       2024|13.583333333333334|                  2.31|  6.45021645021645|              23.88|  13.201755534622833|      13.665321151038222|\n",
      "|         142|       2| 2024-06-01 00:00:09|  2024-06-01 00:05:11|              1|         0.74|         1|                 N|         239|           1|        6.5|  1.0|    0.5|       2.3|         0.0|                  1.0|        13.8|                 2.5|        0.0|          0|               7|           6|       2024| 5.033333333333333|                  0.74| 8.783783783783784|               13.8|  12.118354640716195|       11.59544640822188|\n",
      "|          48|       2| 2024-06-01 00:26:13|  2024-06-01 00:37:21|              1|          1.5|         1|                 N|         229|           1|       11.4|  1.0|    0.5|       2.0|         0.0|                  1.0|        18.4|                 2.5|        0.0|          0|               7|           6|       2024|11.133333333333333|                   1.5|7.6000000000000005|               18.4|  12.474883501367273|      12.216391909586171|\n",
      "+------------+--------+--------------------+---------------------+---------------+-------------+----------+------------------+------------+------------+-----------+-----+-------+----------+------------+---------------------+------------+--------------------+-----------+-----------+----------------+------------+-----------+------------------+----------------------+------------------+-------------------+--------------------+------------------------+\n",
      "only showing top 5 rows\n",
      "\n"
     ]
    },
    {
     "name": "stderr",
     "output_type": "stream",
     "text": [
      "                                                                                \r"
     ]
    }
   ],
   "source": [
    "df.show(5)"
   ]
  },
  {
   "cell_type": "markdown",
   "metadata": {
    "id": "_ks7M2MiU5rO"
   },
   "source": [
    "### Check feature imporatnce for fare price prediction"
   ]
  },
  {
   "cell_type": "code",
   "execution_count": 20,
   "metadata": {
    "colab": {
     "base_uri": "https://localhost:8080/"
    },
    "id": "pc4P6RcvTxGj",
    "outputId": "76ff9ef8-6a13-422e-bfea-33067f77a27e"
   },
   "outputs": [
    {
     "name": "stderr",
     "output_type": "stream",
     "text": [
      "                                                                                \r"
     ]
    },
    {
     "name": "stdout",
     "output_type": "stream",
     "text": [
      "Correlation between fare_amount and PULocationID: -0.05546677276637209\n"
     ]
    },
    {
     "name": "stderr",
     "output_type": "stream",
     "text": [
      "                                                                                \r"
     ]
    },
    {
     "name": "stdout",
     "output_type": "stream",
     "text": [
      "Correlation between fare_amount and VendorID: 0.03323846291452299\n"
     ]
    },
    {
     "name": "stderr",
     "output_type": "stream",
     "text": [
      "                                                                                \r"
     ]
    },
    {
     "name": "stdout",
     "output_type": "stream",
     "text": [
      "Correlation between fare_amount and passenger_count: nan\n"
     ]
    },
    {
     "name": "stderr",
     "output_type": "stream",
     "text": [
      "                                                                                \r"
     ]
    },
    {
     "name": "stdout",
     "output_type": "stream",
     "text": [
      "Correlation between fare_amount and trip_distance: 0.8615263454503845\n"
     ]
    },
    {
     "name": "stderr",
     "output_type": "stream",
     "text": [
      "                                                                                \r"
     ]
    },
    {
     "name": "stdout",
     "output_type": "stream",
     "text": [
      "Correlation between fare_amount and RatecodeID: -0.0071207262349301005\n"
     ]
    },
    {
     "name": "stderr",
     "output_type": "stream",
     "text": [
      "                                                                                \r"
     ]
    },
    {
     "name": "stdout",
     "output_type": "stream",
     "text": [
      "Correlation between fare_amount and DOLocationID: -0.0776381732780068\n"
     ]
    },
    {
     "name": "stderr",
     "output_type": "stream",
     "text": [
      "                                                                                \r"
     ]
    },
    {
     "name": "stdout",
     "output_type": "stream",
     "text": [
      "Correlation between fare_amount and payment_type: -0.044955551020871336\n"
     ]
    },
    {
     "name": "stderr",
     "output_type": "stream",
     "text": [
      "                                                                                \r"
     ]
    },
    {
     "name": "stdout",
     "output_type": "stream",
     "text": [
      "Correlation between fare_amount and extra: -0.030650755290182814\n"
     ]
    },
    {
     "name": "stderr",
     "output_type": "stream",
     "text": [
      "                                                                                \r"
     ]
    },
    {
     "name": "stdout",
     "output_type": "stream",
     "text": [
      "Correlation between fare_amount and mta_tax: nan\n"
     ]
    },
    {
     "name": "stderr",
     "output_type": "stream",
     "text": [
      "                                                                                \r"
     ]
    },
    {
     "name": "stdout",
     "output_type": "stream",
     "text": [
      "Correlation between fare_amount and tip_amount: 0.41193304021199206\n"
     ]
    },
    {
     "name": "stderr",
     "output_type": "stream",
     "text": [
      "                                                                                \r"
     ]
    },
    {
     "name": "stdout",
     "output_type": "stream",
     "text": [
      "Correlation between fare_amount and tolls_amount: nan\n"
     ]
    },
    {
     "name": "stderr",
     "output_type": "stream",
     "text": [
      "                                                                                \r"
     ]
    },
    {
     "name": "stdout",
     "output_type": "stream",
     "text": [
      "Correlation between fare_amount and improvement_surcharge: nan\n"
     ]
    },
    {
     "name": "stderr",
     "output_type": "stream",
     "text": [
      "                                                                                \r"
     ]
    },
    {
     "name": "stdout",
     "output_type": "stream",
     "text": [
      "Correlation between fare_amount and congestion_surcharge: nan\n"
     ]
    },
    {
     "name": "stderr",
     "output_type": "stream",
     "text": [
      "                                                                                \r"
     ]
    },
    {
     "name": "stdout",
     "output_type": "stream",
     "text": [
      "Correlation between fare_amount and Airport_fee: nan\n"
     ]
    },
    {
     "name": "stderr",
     "output_type": "stream",
     "text": [
      "                                                                                \r"
     ]
    },
    {
     "name": "stdout",
     "output_type": "stream",
     "text": [
      "Correlation between fare_amount and pickup_hour: 0.02399679210210085\n"
     ]
    },
    {
     "name": "stderr",
     "output_type": "stream",
     "text": [
      "                                                                                \r"
     ]
    },
    {
     "name": "stdout",
     "output_type": "stream",
     "text": [
      "Correlation between fare_amount and pickup_dayofweek: 0.016381664215496076\n"
     ]
    },
    {
     "name": "stderr",
     "output_type": "stream",
     "text": [
      "                                                                                \r"
     ]
    },
    {
     "name": "stdout",
     "output_type": "stream",
     "text": [
      "Correlation between fare_amount and pickup_month: 0.01646363269687151\n"
     ]
    },
    {
     "name": "stderr",
     "output_type": "stream",
     "text": [
      "                                                                                \r"
     ]
    },
    {
     "name": "stdout",
     "output_type": "stream",
     "text": [
      "Correlation between fare_amount and pickup_year: 0.00029387813147819803\n"
     ]
    },
    {
     "name": "stderr",
     "output_type": "stream",
     "text": [
      "                                                                                \r"
     ]
    },
    {
     "name": "stdout",
     "output_type": "stream",
     "text": [
      "Correlation between fare_amount and trip_duration: 0.21792412802313815\n"
     ]
    },
    {
     "name": "stderr",
     "output_type": "stream",
     "text": [
      "                                                                                \r"
     ]
    },
    {
     "name": "stdout",
     "output_type": "stream",
     "text": [
      "Correlation between fare_amount and distance_per_passenger: 0.8615263454503845\n"
     ]
    },
    {
     "name": "stderr",
     "output_type": "stream",
     "text": [
      "                                                                                \r"
     ]
    },
    {
     "name": "stdout",
     "output_type": "stream",
     "text": [
      "Correlation between fare_amount and fare_per_distance: -0.11464747979174499\n"
     ]
    },
    {
     "name": "stderr",
     "output_type": "stream",
     "text": [
      "                                                                                \r"
     ]
    },
    {
     "name": "stdout",
     "output_type": "stream",
     "text": [
      "Correlation between fare_amount and total_per_passenger: 0.9559497906256327\n"
     ]
    },
    {
     "name": "stderr",
     "output_type": "stream",
     "text": [
      "                                                                                \r"
     ]
    },
    {
     "name": "stdout",
     "output_type": "stream",
     "text": [
      "Correlation between fare_amount and avg_fare_by_location: 0.19058689026560777\n"
     ]
    },
    {
     "name": "stderr",
     "output_type": "stream",
     "text": [
      "                                                                                \r"
     ]
    },
    {
     "name": "stdout",
     "output_type": "stream",
     "text": [
      "Correlation between fare_amount and avg_duration_by_location: 0.16894135874973493\n"
     ]
    }
   ],
   "source": [
    "input_features = [\"PULocationID\", \"VendorID\", \"passenger_count\", \"trip_distance\", \"RatecodeID\",\n",
    "                  \"DOLocationID\", \"payment_type\", \"extra\", \"mta_tax\", \"tip_amount\",\n",
    "                  \"tolls_amount\", \"improvement_surcharge\", \"congestion_surcharge\",\n",
    "                  \"Airport_fee\", \"pickup_hour\", \"pickup_dayofweek\", \"pickup_month\",\n",
    "                  \"pickup_year\", \"trip_duration\", \"distance_per_passenger\",\n",
    "                  \"fare_per_distance\", \"total_per_passenger\", \"avg_fare_by_location\",\n",
    "                  \"avg_duration_by_location\"]\n",
    "for feature in input_features:\n",
    "    correlation = df.stat.corr(\"fare_amount\", feature)\n",
    "    print(f\"Correlation between fare_amount and {feature}: {correlation}\")\n"
   ]
  },
  {
   "cell_type": "code",
   "execution_count": 21,
   "metadata": {
    "id": "cqipbatXYi9P"
   },
   "outputs": [],
   "source": [
    "# Define target and selected input features to retain\n",
    "target_column = \"fare_amount\"\n",
    "selected_features = [\n",
    "    \"trip_distance\", \"tip_amount\", \"trip_duration\", \"distance_per_passenger\",\n",
    "    \"fare_per_distance\", \"total_per_passenger\", \"avg_fare_by_location\",\n",
    "    \"avg_duration_by_location\"\n",
    "]\n",
    "\n",
    "# Retain only the selected features and the target column\n",
    "columns_to_keep = [target_column] + selected_features\n",
    "df = df.select(*columns_to_keep)\n",
    "\n"
   ]
  },
  {
   "cell_type": "code",
   "execution_count": 22,
   "metadata": {
    "colab": {
     "base_uri": "https://localhost:8080/"
    },
    "id": "GEhI-Mg5bv-V",
    "outputId": "f015fe0d-5830-4f89-f5a2-27b3b937564e"
   },
   "outputs": [
    {
     "name": "stdout",
     "output_type": "stream",
     "text": [
      "root\n",
      " |-- fare_amount: double (nullable = true)\n",
      " |-- trip_distance: double (nullable = true)\n",
      " |-- tip_amount: double (nullable = true)\n",
      " |-- trip_duration: double (nullable = true)\n",
      " |-- distance_per_passenger: double (nullable = true)\n",
      " |-- fare_per_distance: double (nullable = true)\n",
      " |-- total_per_passenger: double (nullable = true)\n",
      " |-- avg_fare_by_location: double (nullable = true)\n",
      " |-- avg_duration_by_location: double (nullable = true)\n",
      "\n"
     ]
    }
   ],
   "source": [
    "# Display the schema to verify the DataFrame structure\n",
    "df.printSchema()"
   ]
  },
  {
   "cell_type": "markdown",
   "metadata": {
    "id": "TqWvZwvAfJRJ"
   },
   "source": [
    "### Building Linear Regression model"
   ]
  },
  {
   "cell_type": "code",
   "execution_count": 23,
   "metadata": {
    "id": "M907Jw7RsGWX"
   },
   "outputs": [],
   "source": [
    "df = df.drop(\"features\", \"out_features\")\n"
   ]
  },
  {
   "cell_type": "code",
   "execution_count": 24,
   "metadata": {
    "colab": {
     "base_uri": "https://localhost:8080/"
    },
    "id": "Mx3FtZb_sLN1",
    "outputId": "68f5c3a3-00c0-41ad-bba4-02fcf1772406"
   },
   "outputs": [
    {
     "name": "stdout",
     "output_type": "stream",
     "text": [
      "root\n",
      " |-- fare_amount: double (nullable = true)\n",
      " |-- trip_distance: double (nullable = true)\n",
      " |-- tip_amount: double (nullable = true)\n",
      " |-- trip_duration: double (nullable = true)\n",
      " |-- distance_per_passenger: double (nullable = true)\n",
      " |-- fare_per_distance: double (nullable = true)\n",
      " |-- total_per_passenger: double (nullable = true)\n",
      " |-- avg_fare_by_location: double (nullable = true)\n",
      " |-- avg_duration_by_location: double (nullable = true)\n",
      "\n"
     ]
    }
   ],
   "source": [
    "df.printSchema()"
   ]
  },
  {
   "cell_type": "code",
   "execution_count": 25,
   "metadata": {
    "colab": {
     "base_uri": "https://localhost:8080/"
    },
    "id": "5m1PX5Hva8l5",
    "outputId": "91a1b77d-672a-478a-fc81-e3c32679a000"
   },
   "outputs": [
    {
     "name": "stderr",
     "output_type": "stream",
     "text": [
      "[Stage 209:=============================================>           (4 + 1) / 5]\r"
     ]
    },
    {
     "name": "stdout",
     "output_type": "stream",
     "text": [
      "Root Mean Squared Error (RMSE) on test data: 0.9255823159615582\n"
     ]
    },
    {
     "name": "stderr",
     "output_type": "stream",
     "text": [
      "                                                                                \r"
     ]
    }
   ],
   "source": [
    "# Step 1: Ensure the target column and selected features are cast to DoubleType\n",
    "for column in [target_column] + selected_features:\n",
    "    df = df.withColumn(column, col(column).cast(DoubleType()))\n",
    "\n",
    "# Step 2: Remove rows with NaN, null, or infinite values in selected columns\n",
    "for column in [target_column] + selected_features:\n",
    "    df = df.filter(~isnan(col(column)) & ~isnull(col(column)) & (col(column) != float(\"inf\")) & (col(column) != float(\"-inf\")))\n",
    "\n",
    "# Step 3: Assemble selected features into a single feature vector\n",
    "assembler = VectorAssembler(inputCols=selected_features, outputCol=\"features\")\n",
    "df = assembler.transform(df)\n",
    "\n",
    "# Step 4: Normalize the feature vector\n",
    "scaler = StandardScaler(inputCol=\"features\", outputCol=\"scaled_features\", withMean=True, withStd=True)\n",
    "scaler_model = scaler.fit(df)\n",
    "df = scaler_model.transform(df)\n",
    "\n",
    "train, test = df.randomSplit([0.8, 0.2], seed=42)\n",
    "\n",
    "lr = LinearRegression(featuresCol=\"scaled_features\", labelCol=target_column)\n",
    "\n",
    "lr_model = lr.fit(train)\n",
    "\n",
    "predictions = lr_model.transform(test)\n",
    "\n",
    "# Step 9: Evaluate the model's performance using RMSE\n",
    "evaluator = RegressionEvaluator(labelCol=target_column, predictionCol=\"prediction\", metricName=\"rmse\")\n",
    "rmse = evaluator.evaluate(predictions)\n",
    "print(f\"Root Mean Squared Error (RMSE) on test data: {rmse}\")\n",
    "\n"
   ]
  },
  {
   "cell_type": "code",
   "execution_count": 26,
   "metadata": {
    "colab": {
     "base_uri": "https://localhost:8080/"
    },
    "id": "xXTw3TWxhVbP",
    "outputId": "e2fb1225-ba23-423d-f815-8a601b146f8e"
   },
   "outputs": [
    {
     "name": "stderr",
     "output_type": "stream",
     "text": [
      "[Stage 215:=============================================>           (4 + 1) / 5]\r"
     ]
    },
    {
     "name": "stdout",
     "output_type": "stream",
     "text": [
      "+-----------+------------------+\n",
      "|fare_amount|        prediction|\n",
      "+-----------+------------------+\n",
      "|        5.8| 7.543649318155057|\n",
      "|       12.8| 12.12767524814576|\n",
      "|       15.6|15.803205609531865|\n",
      "|       19.8|21.242059291378432|\n",
      "|        7.9| 7.419465814911607|\n",
      "|       17.0|15.461201704754782|\n",
      "|       25.4|26.572925350549745|\n",
      "|       11.4| 12.79987064813904|\n",
      "|        7.2| 7.616134632137978|\n",
      "|       10.0|11.868765683687219|\n",
      "+-----------+------------------+\n",
      "\n"
     ]
    },
    {
     "name": "stderr",
     "output_type": "stream",
     "text": [
      "                                                                                \r"
     ]
    }
   ],
   "source": [
    "from pyspark.sql.functions import rand\n",
    "\n",
    "random_predictions = predictions.select(target_column, \"prediction\").orderBy(rand()).limit(10)\n",
    "\n",
    "random_predictions.show()\n"
   ]
  },
  {
   "cell_type": "markdown",
   "metadata": {
    "id": "KeZABD_1fTwO"
   },
   "source": [
    "#### Relative RMSE tells us that the predicted fare amount on an average varies by 7.38% from the actual value"
   ]
  },
  {
   "cell_type": "code",
   "execution_count": 27,
   "metadata": {
    "colab": {
     "base_uri": "https://localhost:8080/"
    },
    "id": "nLLi1csXdLmq",
    "outputId": "d374245d-eda0-407c-8e99-c7d8e08a7f4f"
   },
   "outputs": [
    {
     "name": "stderr",
     "output_type": "stream",
     "text": [
      "[Stage 221:=============================================>           (4 + 1) / 5]\r"
     ]
    },
    {
     "name": "stdout",
     "output_type": "stream",
     "text": [
      "Relative RMSE: 7.20%\n"
     ]
    },
    {
     "name": "stderr",
     "output_type": "stream",
     "text": [
      "                                                                                \r"
     ]
    }
   ],
   "source": [
    "# Calculate the mean of fare_amount in the test set\n",
    "mean_fare = test.select(\"fare_amount\").groupBy().avg().first()[0]\n",
    "\n",
    "# Calculate relative RMSE as a percentage\n",
    "relative_rmse = (rmse / mean_fare) * 100\n",
    "print(f\"Relative RMSE: {relative_rmse:.2f}%\")\n"
   ]
  },
  {
   "cell_type": "code",
   "execution_count": 28,
   "metadata": {
    "colab": {
     "base_uri": "https://localhost:8080/"
    },
    "id": "-rj_drUcad7f",
    "outputId": "cb741efc-0c3d-4c2f-93f9-6145d0d9a0e9"
   },
   "outputs": [
    {
     "name": "stdout",
     "output_type": "stream",
     "text": [
      "root\n",
      " |-- fare_amount: double (nullable = true)\n",
      " |-- trip_distance: double (nullable = true)\n",
      " |-- tip_amount: double (nullable = true)\n",
      " |-- trip_duration: double (nullable = true)\n",
      " |-- distance_per_passenger: double (nullable = true)\n",
      " |-- fare_per_distance: double (nullable = true)\n",
      " |-- total_per_passenger: double (nullable = true)\n",
      " |-- avg_fare_by_location: double (nullable = true)\n",
      " |-- avg_duration_by_location: double (nullable = true)\n",
      " |-- features: vector (nullable = true)\n",
      " |-- scaled_features: vector (nullable = true)\n",
      "\n"
     ]
    }
   ],
   "source": [
    "df.printSchema()"
   ]
  },
  {
   "cell_type": "markdown",
   "metadata": {
    "id": "VVjjLtqAhEQU"
   },
   "source": [
    "### Checking for Overfitting or Underfitting"
   ]
  },
  {
   "cell_type": "code",
   "execution_count": 29,
   "metadata": {
    "colab": {
     "base_uri": "https://localhost:8080/"
    },
    "id": "oWvNKnhtf1bl",
    "outputId": "729d9571-62c3-4190-e2d8-1b63539fce3b"
   },
   "outputs": [
    {
     "name": "stderr",
     "output_type": "stream",
     "text": [
      "                                                                                \r"
     ]
    },
    {
     "name": "stdout",
     "output_type": "stream",
     "text": [
      "Training RMSE: 0.9259655217037926\n"
     ]
    },
    {
     "name": "stderr",
     "output_type": "stream",
     "text": [
      "[Stage 236:=============================================>           (4 + 1) / 5]\r"
     ]
    },
    {
     "name": "stdout",
     "output_type": "stream",
     "text": [
      "Test RMSE: 0.9255823159615582\n",
      "The model seems to be well-fitted.\n"
     ]
    },
    {
     "name": "stderr",
     "output_type": "stream",
     "text": [
      "                                                                                \r"
     ]
    }
   ],
   "source": [
    "from pyspark.ml.evaluation import RegressionEvaluator\n",
    "\n",
    "# Step 1: Calculate RMSE on the Training Data\n",
    "train_predictions = lr_model.transform(train)\n",
    "train_rmse = evaluator.evaluate(train_predictions, {evaluator.metricName: \"rmse\"})\n",
    "print(f\"Training RMSE: {train_rmse}\")\n",
    "\n",
    "# Step 2: Calculate RMSE on the Test Data\n",
    "test_predictions = lr_model.transform(test)\n",
    "test_rmse = evaluator.evaluate(test_predictions, {evaluator.metricName: \"rmse\"})\n",
    "print(f\"Test RMSE: {test_rmse}\")\n",
    "\n",
    "\n",
    "# Step 3: Analyze Overfitting or Underfitting\n",
    "if train_rmse < test_rmse * 0.7:\n",
    "    print(\"The model might be overfitting.\")\n",
    "elif train_rmse > test_rmse * 1.3:\n",
    "    print(\"The model might be underfitting.\")\n",
    "else:\n",
    "    print(\"The model seems to be well-fitted.\")\n"
   ]
  },
  {
   "cell_type": "code",
   "execution_count": null,
   "metadata": {},
   "outputs": [],
   "source": [
    "spark.stop()"
   ]
  },
  {
   "cell_type": "markdown",
   "metadata": {
    "id": "bXJsVHaTwHLz"
   },
   "source": [
    "### Visualiztion Plots Using Hive"
   ]
  },
  {
   "cell_type": "code",
   "execution_count": null,
   "metadata": {
    "id": "y0892vCBpKCk"
   },
   "outputs": [],
   "source": [
    "# Save DataFrame as a permanent Hive table\n",
    "df.write.mode(\"overwrite\").saveAsTable(\"nyc_yellow_cab_data\")\n"
   ]
  },
  {
   "cell_type": "code",
   "execution_count": null,
   "metadata": {
    "colab": {
     "base_uri": "https://localhost:8080/",
     "height": 564
    },
    "collapsed": true,
    "id": "I42dV4r4ttad",
    "jupyter": {
     "outputs_hidden": true
    },
    "outputId": "fb4c3bae-57c6-4c67-f617-b7cfd0cd8af6"
   },
   "outputs": [
    {
     "data": {
      "image/png": "[encoded data removed]",
      "text/plain": [
       "<Figure size 1000x600 with 1 Axes>"
      ]
     },
     "metadata": {},
     "output_type": "display_data"
    }
   ],
   "source": [
    "fare_vs_distance = spark.sql(\"\"\"\n",
    "    SELECT trip_distance, fare_amount\n",
    "    FROM nyc_yellow_cab_data\n",
    "    WHERE trip_distance < 50\n",
    "\"\"\")\n",
    "fare_vs_distance_df = fare_vs_distance.toPandas()\n",
    "\n"
   ]
  },
  {
   "cell_type": "code",
   "execution_count": null,
   "metadata": {
    "colab": {
     "base_uri": "https://localhost:8080/",
     "height": 564
    },
    "id": "z16_mktNvKgs",
    "outputId": "ff366362-e1fe-41ee-f573-3cbb39490ddd"
   },
   "outputs": [
    {
     "data": {
      "image/png": "[encoded data removed]",
      "text/plain": [
       "<Figure size 1000x600 with 2 Axes>"
      ]
     },
     "metadata": {},
     "output_type": "display_data"
    }
   ],
   "source": [
    "# Hexbin plot\n",
    "plt.figure(figsize=(10, 6))\n",
    "plt.hexbin(fare_vs_distance_df[\"trip_distance\"], fare_vs_distance_df[\"fare_amount\"], gridsize=50, cmap=\"Blues\")\n",
    "plt.colorbar(label=\"Density\")\n",
    "plt.xlabel(\"Trip Distance\")\n",
    "plt.ylabel(\"Fare Amount\")\n",
    "plt.title(\"Fare Amount vs. Trip Distance (Hexbin Plot)\")\n",
    "plt.grid(True)\n",
    "plt.show()"
   ]
  },
  {
   "cell_type": "code",
   "execution_count": null,
   "metadata": {
    "id": "YI8u3yGfo-PR"
   },
   "outputs": [],
   "source": [
    "spark.stop()"
   ]
  }
 ],
 "metadata": {
  "colab": {
   "provenance": []
  },
  "kernelspec": {
   "display_name": "Python 3",
   "language": "python",
   "name": "python3"
  },
  "language_info": {
   "codemirror_mode": {
    "name": "ipython",
    "version": 3
   },
   "file_extension": ".py",
   "mimetype": "text/x-python",
   "name": "python",
   "nbconvert_exporter": "python",
   "pygments_lexer": "ipython3",
   "version": "3.10.10"
  }
 },
 "nbformat": 4,
 "nbformat_minor": 4
}
